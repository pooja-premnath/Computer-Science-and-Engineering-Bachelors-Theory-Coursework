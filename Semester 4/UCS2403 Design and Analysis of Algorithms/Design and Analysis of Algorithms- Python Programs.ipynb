{
 "cells": [
  {
   "cell_type": "markdown",
   "id": "03c75d76",
   "metadata": {},
   "source": [
    "# Sorting"
   ]
  },
  {
   "cell_type": "markdown",
   "id": "ede6fd8b",
   "metadata": {},
   "source": [
    "# 1. Bubble Sort"
   ]
  },
  {
   "cell_type": "code",
   "execution_count": 9,
   "id": "bb0aaa28",
   "metadata": {},
   "outputs": [
    {
     "name": "stdout",
     "output_type": "stream",
     "text": [
      "[1, 2, 3, 6]\n"
     ]
    }
   ],
   "source": [
    "def bubble_sort(arr):\n",
    "    n=len(arr)\n",
    "    for i in range(n-1):\n",
    "        for j in range(n-1-i):\n",
    "            if arr[j]>arr[j+1]:\n",
    "                arr[j],arr[j+1]=arr[j+1],arr[j]\n",
    "    print(arr)\n",
    "bubble_sort([3,6,1,2])"
   ]
  },
  {
   "cell_type": "markdown",
   "id": "7e444399",
   "metadata": {},
   "source": [
    "# 2. Insertion Sort"
   ]
  },
  {
   "cell_type": "code",
   "execution_count": 11,
   "id": "8572a542",
   "metadata": {},
   "outputs": [
    {
     "name": "stdout",
     "output_type": "stream",
     "text": [
      "[-100, -9, 0, 2, 3, 4, 65]\n"
     ]
    }
   ],
   "source": [
    "def insertion_sort(arr):\n",
    "    n=len(arr)\n",
    "    for i in range(1,n):\n",
    "        item=arr[i]\n",
    "        j=i-1\n",
    "        while j>=0 and item<arr[j]:\n",
    "            arr[j+1]=arr[j]\n",
    "            j-=1\n",
    "        else:\n",
    "            arr[j+1]=item\n",
    "    print(arr)\n",
    "\n",
    "insertion_sort([-9,0,2,4,-100,65,3])"
   ]
  },
  {
   "cell_type": "markdown",
   "id": "468f827b",
   "metadata": {},
   "source": [
    "# 3. Selection Sort"
   ]
  },
  {
   "cell_type": "code",
   "execution_count": 15,
   "id": "6ddb7b5f",
   "metadata": {},
   "outputs": [
    {
     "name": "stdout",
     "output_type": "stream",
     "text": [
      "[-100, -9, 0, 2, 3, 4, 65]\n"
     ]
    }
   ],
   "source": [
    "def selection_sort(arr):\n",
    "    n=len(arr)\n",
    "    for i in range(n):\n",
    "        min_index=i\n",
    "        for j in range(min_index+1,n):\n",
    "            if arr[j]<arr[min_index]:\n",
    "                min_index=j\n",
    "        \n",
    "        #swap arr[i] and arr[min_index]\n",
    "        arr[i],arr[min_index]=arr[min_index],arr[i]\n",
    "    \n",
    "    print(arr)\n",
    "\n",
    "selection_sort([-9,0,2,4,-100,65,3])\n",
    "        "
   ]
  },
  {
   "cell_type": "markdown",
   "id": "fdc2fcf7",
   "metadata": {},
   "source": [
    "# 4. Merge Sort"
   ]
  },
  {
   "cell_type": "code",
   "execution_count": 19,
   "id": "3c6868ab",
   "metadata": {},
   "outputs": [
    {
     "name": "stdout",
     "output_type": "stream",
     "text": [
      "[-100, -9, 0, 2, 3, 4, 65]\n"
     ]
    }
   ],
   "source": [
    "# there are two functions in mergesort- mergesort and merge\n",
    "\n",
    "def merge_sort(arr):\n",
    "    \n",
    "    if (len(arr)<=1):\n",
    "        return arr\n",
    "    \n",
    "    mid=len(arr)//2\n",
    "    left_arr=arr[:mid]\n",
    "    right_arr=arr[mid:]\n",
    "    \n",
    "    left_arr=merge_sort(left_arr)\n",
    "    right_arr=merge_sort(right_arr)\n",
    "    \n",
    "    return merge(left_arr,right_arr)\n",
    "\n",
    "def merge(left_arr,right_arr):\n",
    "    merged=[]\n",
    "    left_ind=0\n",
    "    right_ind=0\n",
    "    \n",
    "    while left_ind<len(left_arr) and right_ind<len(right_arr):\n",
    "        if left_arr[left_ind]<right_arr[right_ind]:\n",
    "            merged.append(left_arr[left_ind])\n",
    "            left_ind+=1;\n",
    "        \n",
    "        else:\n",
    "            merged.append(right_arr[right_ind])\n",
    "            right_ind+=1\n",
    "            \n",
    "    \n",
    "    merged.extend(left_arr[left_ind:])\n",
    "    merged.extend(right_arr[right_ind:])\n",
    "    \n",
    "    return merged\n",
    "\n",
    "print(merge_sort([-9,0,2,4,-100,65,3]))"
   ]
  },
  {
   "cell_type": "markdown",
   "id": "64f1de91",
   "metadata": {},
   "source": [
    "# 5. Quicksort"
   ]
  },
  {
   "cell_type": "code",
   "execution_count": 22,
   "id": "4839efc2",
   "metadata": {},
   "outputs": [
    {
     "name": "stdout",
     "output_type": "stream",
     "text": [
      "[-100, -9, 0, 2, 3, 4, 65]\n"
     ]
    }
   ],
   "source": [
    "def quicksort(arr):\n",
    "    if(len(arr)<=1):\n",
    "        return arr\n",
    "    \n",
    "    pivot=arr[0]\n",
    "    less=[x for x in arr[1:] if x<=pivot]\n",
    "    greater=[x for x in arr[1:] if x>pivot]\n",
    "    \n",
    "    return quicksort(less) + [pivot] + quicksort(greater)\n",
    "\n",
    "print(quicksort([-9,0,2,4,-100,65,3]))"
   ]
  },
  {
   "cell_type": "markdown",
   "id": "e3f73057",
   "metadata": {},
   "source": [
    "# 6.  Shell Sort"
   ]
  },
  {
   "cell_type": "code",
   "execution_count": 24,
   "id": "a1bdbbbb",
   "metadata": {},
   "outputs": [
    {
     "name": "stdout",
     "output_type": "stream",
     "text": [
      "[-100, -9, 0, 2, 3, 4, 65]\n"
     ]
    }
   ],
   "source": [
    "def shell_sort(arr):\n",
    "    n=len(arr)\n",
    "    gap=n//2\n",
    "    \n",
    "    while gap>0:\n",
    "        for i in range(gap,n):\n",
    "            item=arr[i]\n",
    "            j=i\n",
    "            \n",
    "            while (j>=gap and arr[j-gap]>item):\n",
    "                arr[j]=arr[j-gap]\n",
    "                j-=gap\n",
    "            \n",
    "            arr[j]=item\n",
    "        gap//=2\n",
    "    \n",
    "    print(arr)\n",
    "        \n",
    "shell_sort([-9,0,2,4,-100,65,3])"
   ]
  },
  {
   "cell_type": "markdown",
   "id": "cd7048c3",
   "metadata": {},
   "source": [
    "# 7. Radix Exchange Sort"
   ]
  },
  {
   "cell_type": "code",
   "execution_count": 28,
   "id": "9d7b4584",
   "metadata": {
    "scrolled": true
   },
   "outputs": [
    {
     "name": "stdout",
     "output_type": "stream",
     "text": [
      "[0, -100, 2, 3, 4, 65, -9]\n"
     ]
    }
   ],
   "source": [
    "def radix_sort(arr):\n",
    "    max_num=max(arr)\n",
    "    num_digits=len(str(max_num))\n",
    "    \n",
    "    for digits_place in range(num_digits):\n",
    "        arr=sorted(arr, key=lambda x: (x//(10**digits_place))%10)\n",
    "        \n",
    "    print(arr)\n",
    "        \n",
    "radix_sort([-9,0,2,4,-100,65,3])"
   ]
  },
  {
   "cell_type": "markdown",
   "id": "4474fc30",
   "metadata": {},
   "source": [
    "# 8. Comparison Count Sort"
   ]
  },
  {
   "cell_type": "code",
   "execution_count": 31,
   "id": "0d0aee15",
   "metadata": {},
   "outputs": [
    {
     "name": "stdout",
     "output_type": "stream",
     "text": [
      "[-100, -9, 0, 2, 3, 4, 65]\n"
     ]
    }
   ],
   "source": [
    "def comparison_count_sort(arr):\n",
    "    n=len(arr)\n",
    "    counts=[0]*n\n",
    "    \n",
    "    for i in range(n):\n",
    "        for j in range(i+1,n):\n",
    "            if arr[i]<arr[j]:\n",
    "                counts[j]+=1\n",
    "            else:\n",
    "                counts[i]+=1\n",
    "    \n",
    "    sorted_arr=[0]*n\n",
    "    for i in range(n):\n",
    "        sorted_arr[counts[i]]=arr[i]\n",
    "        \n",
    "    print(sorted_arr)\n",
    "    \n",
    "comparison_count_sort([-9,0,2,4,-100,65,3])"
   ]
  },
  {
   "cell_type": "markdown",
   "id": "ea7d7aa3",
   "metadata": {},
   "source": [
    "# 9. Heap Sort"
   ]
  },
  {
   "cell_type": "code",
   "execution_count": null,
   "id": "b4837458",
   "metadata": {},
   "outputs": [],
   "source": [
    "#do if you have time"
   ]
  },
  {
   "cell_type": "markdown",
   "id": "02563a8b",
   "metadata": {},
   "source": [
    "# Searching "
   ]
  },
  {
   "cell_type": "markdown",
   "id": "32df5500",
   "metadata": {},
   "source": [
    "# 1. Non-Recursive Binary Search"
   ]
  },
  {
   "cell_type": "code",
   "execution_count": 34,
   "id": "f5f87fbd",
   "metadata": {},
   "outputs": [
    {
     "name": "stdout",
     "output_type": "stream",
     "text": [
      "Enter a list of elements[1,3,5,7,9]\n",
      "Enter the searching element10\n",
      "Element not found\n"
     ]
    }
   ],
   "source": [
    "def nonrecursive_binarysearch(lst,ele):\n",
    "    beg=0\n",
    "    end=len(lst)-1\n",
    "    \n",
    "    while(beg<=end):\n",
    "        mid=(beg+end)//2\n",
    "        if lst[mid]==ele:\n",
    "            print(\"Element found\")\n",
    "            return\n",
    "        elif lst[mid]<ele:\n",
    "            beg=mid+1\n",
    "        else:\n",
    "            end=mid-1\n",
    "    else:\n",
    "        print(\"Element not found\")\n",
    "        \n",
    "lst=eval(input(\"Enter a list of elements\"))\n",
    "ele=int(input(\"Enter the searching element\"))\n",
    "nonrecursive_binarysearch(lst,ele)"
   ]
  },
  {
   "cell_type": "markdown",
   "id": "ee55915d",
   "metadata": {},
   "source": [
    "# 2. Recursive Binary Search"
   ]
  },
  {
   "cell_type": "code",
   "execution_count": 37,
   "id": "bee4f2c6",
   "metadata": {},
   "outputs": [
    {
     "name": "stdout",
     "output_type": "stream",
     "text": [
      "Enter a list of elements[1,3,5,7,9]\n",
      "Enter the searching element8\n",
      "Element not found\n"
     ]
    }
   ],
   "source": [
    "def recursive_binarysearch(lst,beg,end):\n",
    "    mid=(beg+end)//2\n",
    "    if (beg<=end):\n",
    "        if(lst[mid]==ele):\n",
    "            print(\"Element found\")\n",
    "            return\n",
    "        elif (lst[mid]<ele):\n",
    "            return recursive_binarysearch(lst,mid+1,end)\n",
    "        else:\n",
    "            return recursive_binarysearch(lst,beg,mid-1)\n",
    "    print(\"Element not found\")\n",
    "    return\n",
    "\n",
    "\n",
    "lst=eval(input(\"Enter a list of elements\"))\n",
    "ele=int(input(\"Enter the searching element\"))\n",
    "beg=0\n",
    "end=len(lst)-1\n",
    "recursive_binarysearch(lst,beg,end)\n"
   ]
  },
  {
   "cell_type": "markdown",
   "id": "6c869b09",
   "metadata": {},
   "source": [
    "# 3. Interpolation Search"
   ]
  },
  {
   "cell_type": "code",
   "execution_count": 46,
   "id": "e0d5625e",
   "metadata": {},
   "outputs": [
    {
     "name": "stdout",
     "output_type": "stream",
     "text": [
      "3\n"
     ]
    }
   ],
   "source": [
    "def interpolation_search(arr,lo,hi,x):\n",
    "    if (lo<=hi and x>=arr[lo] and x<=arr[hi]):\n",
    "        \n",
    "        # use interpolation formula\n",
    "        pos=lo+((hi-lo)//(arr[hi]-arr[lo])*(x-arr[lo]))\n",
    "        \n",
    "    \n",
    "        if arr[pos]==x:\n",
    "            return pos\n",
    "        \n",
    "        if arr[pos]<x:\n",
    "            return interpolation_search(arr,pos+1,hi,x)\n",
    "            \n",
    "        if arr[pos]>x:\n",
    "            return interpolation_search(arr,lo,pos-1,x)\n",
    "    \n",
    "    return -1\n",
    "\n",
    "\n",
    "#remember that hi=n-1\n",
    "print(interpolation_search([1,3,5,7,9],0,4,7))"
   ]
  },
  {
   "cell_type": "markdown",
   "id": "11ea9b8b",
   "metadata": {},
   "source": [
    "# Dynamic Programming Questions"
   ]
  },
  {
   "cell_type": "markdown",
   "id": "c30fc98e",
   "metadata": {},
   "source": [
    "# 1. Longest Common Subsequence"
   ]
  },
  {
   "cell_type": "code",
   "execution_count": 47,
   "id": "03386d86",
   "metadata": {},
   "outputs": [],
   "source": [
    "#There are two cases-\n",
    "\n",
    "#1. if the characters match: add 1 to left diagonal element, i.e l[i-1][j-1]+1\n",
    "#2. if the characters don'tmatch: find max of the left and top cells: i.e max(l[i-1][j], l[i][j-1])"
   ]
  },
  {
   "cell_type": "code",
   "execution_count": 52,
   "id": "b06ce570",
   "metadata": {},
   "outputs": [
    {
     "name": "stdout",
     "output_type": "stream",
     "text": [
      "['', 'G', 'T', 'A', 'B']\n",
      "Length of LCS is 4\n"
     ]
    }
   ],
   "source": [
    "def lcs(s1,s2,m,n):\n",
    "    L=[[None]*(n+1) for i in range(m+1)]\n",
    "    \n",
    "    for i in range(m+1):\n",
    "        for j in range(n+1):\n",
    "            \n",
    "            if i==0 or j==0:\n",
    "                L[i][j]=0\n",
    "                \n",
    "            elif s1[i-1]==s2[j-1]:\n",
    "                L[i][j]=L[i-1][j-1]+1\n",
    "            else:\n",
    "                L[i][j]=max(L[i-1][j], L[i][j-1])\n",
    "                \n",
    "    \n",
    "    \n",
    "    lcs_length = L[m][n]\n",
    "    \n",
    "    #printing the longest common substring\n",
    "    lcs = [\"\"] * (lcs_length + 1)\n",
    "    lcs_index = lcs_length\n",
    "\n",
    "    i, j = m, n\n",
    "    while i > 0 and j > 0:\n",
    "        if s1[i - 1] == s2[j - 1]:\n",
    "            lcs[lcs_index] = s1[i - 1]\n",
    "            i -= 1\n",
    "            j -= 1\n",
    "            lcs_index -= 1\n",
    "        elif L[i - 1][j] > L[i][j - 1]:\n",
    "            i -= 1\n",
    "        else:\n",
    "            j -= 1\n",
    "            \n",
    "    print(lcs)\n",
    "    return L[m][n]\n",
    "\n",
    "S1 = \"AGGTAB\"\n",
    "S2 = \"GXTXAYB\"\n",
    "m = len(S1)\n",
    "n = len(S2)\n",
    "print (\"Length of LCS is\", lcs(S1, S2, m, n) )"
   ]
  },
  {
   "cell_type": "markdown",
   "id": "db9611f6",
   "metadata": {},
   "source": [
    "# 2. Longest Increasing Subsequence"
   ]
  },
  {
   "cell_type": "code",
   "execution_count": null,
   "id": "e8475fa7",
   "metadata": {},
   "outputs": [],
   "source": [
    "#There are 2 conditions to check: if the arr[i]>arr[j] and if lis[i]<lis[j]+1\n",
    "#if lis[i]<lis[j], then update lis[i]=lis[j]+1"
   ]
  },
  {
   "cell_type": "code",
   "execution_count": 53,
   "id": "cd49d9ba",
   "metadata": {},
   "outputs": [
    {
     "name": "stdout",
     "output_type": "stream",
     "text": [
      "5\n"
     ]
    }
   ],
   "source": [
    "def lis(arr):\n",
    "    \n",
    "    n=len(arr)\n",
    "    lis=[1]*n\n",
    "    \n",
    "    for i in range(1,n):\n",
    "        for j in range(i):\n",
    "            if(arr[i]>arr[j] and lis[i]<lis[j]+1):\n",
    "                lis[i]=lis[j]+1\n",
    "    print(max(lis))\n",
    "\n",
    "arr = [10, 22, 9, 33, 21, 50, 41, 60]\n",
    "lis(arr)"
   ]
  },
  {
   "cell_type": "markdown",
   "id": "1bce2452",
   "metadata": {},
   "source": [
    "# 3. Longest Decreasing Subsequence"
   ]
  },
  {
   "cell_type": "code",
   "execution_count": 56,
   "id": "49bbcfa6",
   "metadata": {},
   "outputs": [],
   "source": [
    "#same as LIS, but change the <. will now be arr[i]<arr[j]"
   ]
  },
  {
   "cell_type": "code",
   "execution_count": 55,
   "id": "4341f276",
   "metadata": {},
   "outputs": [
    {
     "name": "stdout",
     "output_type": "stream",
     "text": [
      "3\n"
     ]
    }
   ],
   "source": [
    "def lds(arr):\n",
    "    \n",
    "    n=len(arr)\n",
    "    lds=[1]*n\n",
    "    \n",
    "    for i in range(1,n):\n",
    "        for j in range(i):\n",
    "            if(arr[i]<arr[j] and lds[i]<lds[j]+1):\n",
    "                lds[i]=lds[j]+1\n",
    "    print(max(lds))\n",
    "\n",
    "arr = [ 15, 27, 14, 38,63, 55, 46, 65, 85 ]\n",
    "lds(arr)"
   ]
  },
  {
   "cell_type": "markdown",
   "id": "764f0fa2",
   "metadata": {},
   "source": [
    "# 4. Longest Palindrome Subsequence"
   ]
  },
  {
   "cell_type": "code",
   "execution_count": 59,
   "id": "010a82d9",
   "metadata": {},
   "outputs": [],
   "source": [
    "#The longest palindrome subsequence can be found by by merely applying lcs to the reverse of the og string\n",
    "#damn"
   ]
  },
  {
   "cell_type": "code",
   "execution_count": 58,
   "id": "68f646c2",
   "metadata": {},
   "outputs": [
    {
     "name": "stdout",
     "output_type": "stream",
     "text": [
      "['', 'a', 'c', 'b', 'c', 'a']\n"
     ]
    },
    {
     "data": {
      "text/plain": [
       "5"
      ]
     },
     "execution_count": 58,
     "metadata": {},
     "output_type": "execute_result"
    }
   ],
   "source": [
    "string1='abacbca'\n",
    "string2=string1[::-1]\n",
    "lcs(string1,string2,len(string1),len(string2))"
   ]
  },
  {
   "cell_type": "markdown",
   "id": "5c26cf10",
   "metadata": {},
   "source": [
    "# 5. 0/1 Knapsack Problem"
   ]
  },
  {
   "cell_type": "code",
   "execution_count": 60,
   "id": "d098a1ad",
   "metadata": {},
   "outputs": [
    {
     "name": "stdout",
     "output_type": "stream",
     "text": [
      "220\n"
     ]
    }
   ],
   "source": [
    "def knapsack(W,wt,val,n):\n",
    "        K=[[0 for i in range(W+1)] for j in range(n+1)]\n",
    "        \n",
    "        for i in range(n+1):\n",
    "            for j in range(W+1):\n",
    "                \n",
    "                if i==0 or j==0:\n",
    "                    K[i][j]=0\n",
    "                \n",
    "                elif wt[i-1]<=j:\n",
    "                    K[i][j]=max(K[i-1][j],val[i-1] + K[i-1][j-wt[i-1]])\n",
    "                else:\n",
    "                    K[i][j]=K[i-1][j]\n",
    "        \n",
    "        return K[n][W]\n",
    "profit = [60, 100, 120]\n",
    "weight = [10, 20, 30]\n",
    "W = 50\n",
    "n = len(profit)\n",
    "print(knapsack(W, weight, profit, n))"
   ]
  },
  {
   "cell_type": "markdown",
   "id": "f001a707",
   "metadata": {},
   "source": [
    "# 6. Coin Change Problem"
   ]
  },
  {
   "cell_type": "code",
   "execution_count": 70,
   "id": "fdbe7d14",
   "metadata": {},
   "outputs": [],
   "source": [
    "\n",
    "def coin_change(amount,coins):\n",
    "    dp=[float('inf')]*(amount+1)\n",
    "    dp[0]=0\n",
    "    \n",
    "    for a in range(1,amount+1):\n",
    "        for c in coins:\n",
    "            if a-c>=0:\n",
    "                min_coins=min(dp[a],dp[a-c]+1)\n",
    "                dp[a]=min_coins\n",
    "    print(dp[amount])"
   ]
  },
  {
   "cell_type": "code",
   "execution_count": 71,
   "id": "cf014528",
   "metadata": {},
   "outputs": [
    {
     "name": "stdout",
     "output_type": "stream",
     "text": [
      "3\n"
     ]
    }
   ],
   "source": [
    "amount=11\n",
    "coins=[1,2,5]\n",
    "coin_change(amount,coins)"
   ]
  },
  {
   "cell_type": "markdown",
   "id": "72db977f",
   "metadata": {},
   "source": [
    "# 7. Climbing Stairs Problem- Fibonacci DP"
   ]
  },
  {
   "cell_type": "code",
   "execution_count": 80,
   "id": "06c1b582",
   "metadata": {},
   "outputs": [],
   "source": [
    "#There are n stairs in all, a girl climbing these stairs can take\n",
    "#one step or two steps at a time. \n",
    "#Find number of ways in which she can climb the stairs\n",
    "\n",
    "\n",
    "def stair(n):\n",
    "    dp=[0]*(n+1)\n",
    "    dp[0]=1\n",
    "    dp[1]=1\n",
    "    \n",
    "    for i in range(2,n+1):\n",
    "        dp[i]=dp[i-1]+dp[i-2]\n",
    "        \n",
    "    print(dp[n])"
   ]
  },
  {
   "cell_type": "code",
   "execution_count": 81,
   "id": "9ad96e27",
   "metadata": {},
   "outputs": [
    {
     "name": "stdout",
     "output_type": "stream",
     "text": [
      "8\n"
     ]
    }
   ],
   "source": [
    "stair(5)"
   ]
  },
  {
   "cell_type": "markdown",
   "id": "1766076d",
   "metadata": {},
   "source": [
    "# Graph Algorithms"
   ]
  },
  {
   "cell_type": "markdown",
   "id": "164211ac",
   "metadata": {},
   "source": [
    "# 1. Floyd Warshall Algorithm- DP"
   ]
  },
  {
   "cell_type": "code",
   "execution_count": 2,
   "id": "8aabbcc4",
   "metadata": {},
   "outputs": [],
   "source": [
    "def floydwarshall(graph):\n",
    "    n=len(graph)\n",
    "    dist=[row[:] for row in graph]\n",
    "    for k in range(n):\n",
    "        for i in range(n):\n",
    "            for j in range(n):\n",
    "                dist[i][j]=min(dist[i][j],dist[i][k]+dist[k][j])\n",
    "    \n",
    "    return dist"
   ]
  },
  {
   "cell_type": "code",
   "execution_count": 90,
   "id": "8a736fca",
   "metadata": {},
   "outputs": [
    {
     "name": "stdout",
     "output_type": "stream",
     "text": [
      "[[0, 3, 5, 6], [5, 0, 2, 3], [3, 6, 0, 1], [2, 5, 7, 0]]\n"
     ]
    }
   ],
   "source": [
    "graph = [\n",
    "    [0, 3, float('inf'), 7],\n",
    "    [8, 0, 2, float('inf')],\n",
    "    [5, float('inf'), 0, 1],\n",
    "    [2, float('inf'), float('inf'), 0]\n",
    "]\n",
    "\n",
    "result=floydwarshall(graph)\n",
    "print(result)"
   ]
  },
  {
   "cell_type": "code",
   "execution_count": 4,
   "id": "b51a8165",
   "metadata": {},
   "outputs": [
    {
     "name": "stdout",
     "output_type": "stream",
     "text": [
      "[[0, 3, inf, inf], [2, 0, inf, inf], [3, 1, 0, inf], [5, 3, 2, 0]]\n"
     ]
    }
   ],
   "source": [
    "graph = [\n",
    "    [0, 3, float('inf'), float('inf')],\n",
    "    [2, 0, float('inf'), float('inf')],\n",
    "    [float('inf'), 1, 0, float('inf')],\n",
    "    [float('inf'), float('inf'), 2, 0]\n",
    "]\n",
    "\n",
    "result=floydwarshall(graph)\n",
    "print(result)"
   ]
  },
  {
   "cell_type": "markdown",
   "id": "298620d0",
   "metadata": {},
   "source": [
    "# 2. Warshall's Algorithm for the Transitive Closure of a Graph"
   ]
  },
  {
   "cell_type": "code",
   "execution_count": 91,
   "id": "c93b47d0",
   "metadata": {},
   "outputs": [],
   "source": [
    "#one way is to simple do floyd-warshall- if the result matrix still has infinity in it, those points are unreachable\n"
   ]
  },
  {
   "cell_type": "code",
   "execution_count": 92,
   "id": "129bba51",
   "metadata": {},
   "outputs": [],
   "source": [
    "def transitiveclosure(graph):\n",
    "    n=len(graph)\n",
    "    reach=[row[:] for row in graph]\n",
    "    for k in range(n):\n",
    "        for i in range(n):\n",
    "            for j in range(n):\n",
    "                reach[i][j]=reach[i][j] or (reach[i][k] and reach[k][j])\n",
    "                \n",
    "    return reach\n",
    "    "
   ]
  },
  {
   "cell_type": "code",
   "execution_count": 93,
   "id": "b54e766f",
   "metadata": {},
   "outputs": [
    {
     "name": "stdout",
     "output_type": "stream",
     "text": [
      "[[1, 1, 1, 1], [0, 1, 1, 1], [0, 0, 1, 1], [0, 0, 0, 1]]\n"
     ]
    }
   ],
   "source": [
    "graph = [\n",
    "    [1, 1, 0, 1],\n",
    "    [0, 1, 1, 0],\n",
    "    [0, 0, 1, 1],\n",
    "    [0, 0, 0, 1]\n",
    "]\n",
    "\n",
    "print(transitiveclosure(graph))"
   ]
  },
  {
   "cell_type": "markdown",
   "id": "93d98c61",
   "metadata": {},
   "source": [
    "# 3. Dijkstra's Algorithm"
   ]
  },
  {
   "cell_type": "code",
   "execution_count": 94,
   "id": "cdd70a0c",
   "metadata": {},
   "outputs": [],
   "source": [
    "def dijkstra(graph,start):\n",
    "    n=len(graph)\n",
    "    \n",
    "    #initialize a distance matrix with everything set to infinity\n",
    "    distances=[float('inf')]*n\n",
    "    \n",
    "    #set the start distances as 0\n",
    "    distances[start]=0\n",
    "    \n",
    "    #create a visted matrix, and set all the values to false in the beginning\n",
    "    visited=[False]*n\n",
    "    \n",
    "    for i in range (n):\n",
    "        #initially set the min distance to inf and the min vertex to -1\n",
    "        min_dist=float('inf')\n",
    "        min_dist_vertex=-1\n",
    "        \n",
    "        \n",
    "        #check for 2 things: if the vertex has been visited or not, and if the distance is less than the min_dist\n",
    "        for j in range(n):\n",
    "            if not visited[j] and distances[j]<min_dist:\n",
    "                min_dist=distances[j]\n",
    "                min_dist_vertex=j\n",
    "        \n",
    "        visited[min_dist_vertex]=True\n",
    "        \n",
    "        #now modify the distances of all the neighboring\n",
    "        for j in range(n):\n",
    "            if not visited[j] and graph[min_dist_vertex][j]>0:\n",
    "                new_dist = distances[min_dist_vertex] + graph[min_dist_vertex][j]\n",
    "                if new_dist < distances[j]:\n",
    "                    distances[j] = new_dist\n",
    "\n",
    "    return distances\n",
    "                "
   ]
  },
  {
   "cell_type": "code",
   "execution_count": 96,
   "id": "8645934c",
   "metadata": {},
   "outputs": [
    {
     "name": "stdout",
     "output_type": "stream",
     "text": [
      "[0, 4, 12, 19, 21, 11, 9, 8, 14]\n"
     ]
    }
   ],
   "source": [
    "graph=[[0, 4, 0, 0, 0, 0, 0, 8, 0],\n",
    "               [4, 0, 8, 0, 0, 0, 0, 11, 0],\n",
    "               [0, 8, 0, 7, 0, 4, 0, 0, 2],\n",
    "               [0, 0, 7, 0, 9, 14, 0, 0, 0],\n",
    "               [0, 0, 0, 9, 0, 10, 0, 0, 0],\n",
    "               [0, 0, 4, 14, 10, 0, 2, 0, 0],\n",
    "               [0, 0, 0, 0, 0, 2, 0, 1, 6],\n",
    "               [8, 11, 0, 0, 0, 0, 1, 0, 7],\n",
    "               [0, 0, 2, 0, 0, 0, 6, 7, 0]\n",
    "               ]\n",
    " \n",
    "start_vertex = 0\n",
    "distances = dijkstra(graph, start_vertex)\n",
    "print(distances)\n"
   ]
  },
  {
   "cell_type": "markdown",
   "id": "152e8743",
   "metadata": {},
   "source": [
    "# 4. Prim's Algorithm"
   ]
  },
  {
   "cell_type": "code",
   "execution_count": 114,
   "id": "17b999ea",
   "metadata": {},
   "outputs": [
    {
     "name": "stdout",
     "output_type": "stream",
     "text": [
      "0 2\n",
      "2 3\n",
      "3 4\n",
      "4 1\n"
     ]
    }
   ],
   "source": [
    "G = [[0, 19, 5, 0, 0],\n",
    "     [19, 0, 5, 9, 2],\n",
    "     [5, 5, 0, 1, 6],\n",
    "     [0, 9, 1, 0, 1],\n",
    "     [0, 2, 6, 1, 0]]\n",
    "\n",
    "def prims(G):\n",
    "    selectedvertice=[0,0,0,0,0]\n",
    "    selectedvertice[0]=True\n",
    "    N=5\n",
    "    no_edges=0\n",
    "\n",
    "    while no_edges<N-1:\n",
    "        min=float('inf')\n",
    "        a=0\n",
    "        b=0\n",
    "        for m in range(N):\n",
    "            if(selectedvertice[m]):\n",
    "                for n in range(N):\n",
    "                    if (not selectedvertice[n] and G[m][n]):\n",
    "                        if(G[m][n]<min):\n",
    "                            min=G[m][n]\n",
    "                            a=m\n",
    "                            b=n\n",
    "\n",
    "        print(f\"{a} {b}\")\n",
    "        selectedvertice[b]= True\n",
    "        no_edges+=1\n",
    "        \n",
    "prims(G)"
   ]
  },
  {
   "cell_type": "markdown",
   "id": "98a96edb",
   "metadata": {},
   "source": [
    "# 5. Kruskal's Algorithm"
   ]
  },
  {
   "cell_type": "code",
   "execution_count": 140,
   "id": "9f8051f2",
   "metadata": {},
   "outputs": [],
   "source": [
    "def find(parent, i):\n",
    "    if parent[i] != i:\n",
    "        parent[i] = find(parent, parent[i])\n",
    "    return parent[i]\n",
    "\n",
    "def union(parent, rank, x, y):\n",
    "    xroot = find(parent, x)\n",
    "    yroot = find(parent, y)\n",
    "\n",
    "    if rank[xroot] < rank[yroot]:\n",
    "        parent[xroot] = yroot\n",
    "    elif rank[xroot] > rank[yroot]:\n",
    "        parent[yroot] = xroot\n",
    "    else:\n",
    "        parent[yroot] = xroot\n",
    "        rank[xroot] += 1\n",
    "\n",
    "def kruskal(graph):\n",
    "    n = len(graph)\n",
    "    parent = list(range(n))\n",
    "    rank = [0] * n\n",
    "    edges = []\n",
    "    minimum_spanning_tree = []\n",
    "\n",
    "    # Build a list of all edges in the graph\n",
    "    for i in range(n):\n",
    "        for j in range(i + 1, n):\n",
    "            if graph[i][j] != 0:\n",
    "                edges.append((i, j, graph[i][j]))\n",
    "\n",
    "    # Sort edges in ascending order of weights\n",
    "    edges.sort(key=lambda x: x[2])\n",
    "\n",
    "    for edge in edges:\n",
    "        u, v, weight = edge\n",
    "        if find(parent, u) != find(parent, v):\n",
    "            union(parent, rank, u, v)\n",
    "            minimum_spanning_tree.append(edge)\n",
    "\n",
    "    return minimum_spanning_tree\n"
   ]
  },
  {
   "cell_type": "code",
   "execution_count": 142,
   "id": "11ba02e2",
   "metadata": {},
   "outputs": [
    {
     "name": "stdout",
     "output_type": "stream",
     "text": [
      "[(2, 3, 1), (3, 4, 1), (1, 4, 2), (0, 2, 5)]\n"
     ]
    }
   ],
   "source": [
    "print(kruskal([[0, 19, 5, 0, 0],\n",
    "     [19, 0, 5, 9, 2],\n",
    "     [5, 5, 0, 1, 6],\n",
    "     [0, 9, 1, 0, 1],\n",
    "     [0, 2, 6, 1, 0]]))"
   ]
  },
  {
   "cell_type": "markdown",
   "id": "c58770b7",
   "metadata": {},
   "source": [
    "# 6. DFS"
   ]
  },
  {
   "cell_type": "code",
   "execution_count": 135,
   "id": "634668e4",
   "metadata": {},
   "outputs": [
    {
     "name": "stdout",
     "output_type": "stream",
     "text": [
      "0 2 3 1 4 5 "
     ]
    }
   ],
   "source": [
    "def dfs(n, a, v, i):\n",
    "    print(i, end=' ')\n",
    "    v[i] = 1\n",
    "    for j in range(n):\n",
    "        if a[i][j] == 1 and v[j] == 0:\n",
    "            dfs(n, a, v, j)\n",
    "\n",
    "\n",
    "\n",
    "n = 6\n",
    "v = [0, 0, 0, 0, 0, 0]\n",
    "a = [[0, 0, 1, 0, 0, 0],\n",
    "         [0, 0, 0, 1, 0, 0],\n",
    "         [1, 0, 0, 1, 1, 0],\n",
    "         [0, 1, 1, 0, 1, 1],\n",
    "         [0, 0, 1, 1, 0, 1],\n",
    "         [0, 0, 0, 1, 1, 0]]\n",
    "dfs(n, a, v, 0)\n",
    "\n",
    "\n"
   ]
  },
  {
   "cell_type": "markdown",
   "id": "cf38046c",
   "metadata": {},
   "source": [
    "# 7. BFS"
   ]
  },
  {
   "cell_type": "code",
   "execution_count": 134,
   "id": "9c25a1e2",
   "metadata": {},
   "outputs": [
    {
     "name": "stdout",
     "output_type": "stream",
     "text": [
      "0 2 3 4 1 5 "
     ]
    }
   ],
   "source": [
    "def bfs(graph, start):\n",
    "    n=len(graph)\n",
    "    visited=[False]*n\n",
    "    queue=[]\n",
    "    queue.append(start)\n",
    "    visited[start]=True\n",
    "    \n",
    "    while queue!=[]:\n",
    "        vertex=queue.pop(0)\n",
    "        print(vertex, end=\" \")\n",
    "        \n",
    "        for neighbor in graph[vertex]:\n",
    "            if not visited[neighbor]:\n",
    "                queue.append(neighbor)\n",
    "                visited[neighbor]=True\n",
    "\n",
    "        \n",
    "graph = [\n",
    "        [2],\n",
    "        [3],\n",
    "        [0, 3, 4],\n",
    "        [1, 2, 4, 5],\n",
    "        [2, 3, 5],\n",
    "        [3, 4]\n",
    "    ]\n",
    "start_vertex = 0\n",
    "\n",
    "bfs(graph, start_vertex)\n",
    "       "
   ]
  },
  {
   "cell_type": "markdown",
   "id": "7822ffc8",
   "metadata": {},
   "source": [
    "# Convert an adjacency list to an adjacency matrix"
   ]
  },
  {
   "cell_type": "code",
   "execution_count": 139,
   "id": "0055e1f0",
   "metadata": {},
   "outputs": [
    {
     "name": "stdout",
     "output_type": "stream",
     "text": [
      "[[0, 0, 1, 0, 0, 0], [0, 0, 0, 1, 0, 0], [1, 0, 0, 1, 1, 0], [0, 1, 1, 0, 1, 1], [0, 0, 1, 1, 0, 1], [0, 0, 0, 1, 1, 0]]\n"
     ]
    }
   ],
   "source": [
    "def adj_to_matrix(adj_list):\n",
    "    n = len(adj_list)\n",
    "    adj_matrix = [[0 for _ in range(n)] for _ in range(n)]\n",
    "\n",
    "    for i in adj_list:\n",
    "        for j in adj_list[i]:\n",
    "            adj_matrix[i][j] = 1\n",
    "\n",
    "    print(adj_matrix)\n",
    "\n",
    "graph = {\n",
    "    0: [2],\n",
    "    1: [3],\n",
    "    2: [0, 3, 4],\n",
    "    3: [1, 2, 4, 5],\n",
    "    4: [2, 3, 5],\n",
    "    5: [3, 4]\n",
    "}\n",
    "\n",
    "adj_to_matrix(graph)\n"
   ]
  },
  {
   "cell_type": "code",
   "execution_count": null,
   "id": "cdb77d4f",
   "metadata": {},
   "outputs": [],
   "source": []
  },
  {
   "cell_type": "code",
   "execution_count": null,
   "id": "cbaf785c",
   "metadata": {},
   "outputs": [],
   "source": []
  }
 ],
 "metadata": {
  "kernelspec": {
   "display_name": "Python 3 (ipykernel)",
   "language": "python",
   "name": "python3"
  },
  "language_info": {
   "codemirror_mode": {
    "name": "ipython",
    "version": 3
   },
   "file_extension": ".py",
   "mimetype": "text/x-python",
   "name": "python",
   "nbconvert_exporter": "python",
   "pygments_lexer": "ipython3",
   "version": "3.11.3"
  }
 },
 "nbformat": 4,
 "nbformat_minor": 5
}
